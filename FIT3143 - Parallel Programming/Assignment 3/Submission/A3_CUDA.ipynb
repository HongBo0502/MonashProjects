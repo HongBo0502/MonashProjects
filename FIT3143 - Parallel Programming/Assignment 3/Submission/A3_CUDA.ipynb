{
  "nbformat": 4,
  "nbformat_minor": 0,
  "metadata": {
    "colab": {
      "provenance": [],
      "gpuType": "T4"
    },
    "kernelspec": {
      "name": "python3",
      "display_name": "Python 3"
    },
    "language_info": {
      "name": "python"
    },
    "accelerator": "GPU"
  },
  "cells": [
    {
      "cell_type": "code",
      "source": [
        "!nvcc --version"
      ],
      "metadata": {
        "colab": {
          "base_uri": "https://localhost:8080/"
        },
        "id": "oCtR5l608Ux_",
        "outputId": "3239fbcc-12ce-453f-e7bb-cac21461fa68"
      },
      "execution_count": 2,
      "outputs": [
        {
          "output_type": "stream",
          "name": "stdout",
          "text": [
            "nvcc: NVIDIA (R) Cuda compiler driver\n",
            "Copyright (c) 2005-2022 NVIDIA Corporation\n",
            "Built on Wed_Sep_21_10:33:58_PDT_2022\n",
            "Cuda compilation tools, release 11.8, V11.8.89\n",
            "Build cuda_11.8.r11.8/compiler.31833905_0\n"
          ]
        }
      ]
    },
    {
      "cell_type": "code",
      "source": [
        "!pip install git+https://github.com/andreinechaev/nvcc4jupyter.git"
      ],
      "metadata": {
        "colab": {
          "base_uri": "https://localhost:8080/"
        },
        "id": "KM5rQmlFCryv",
        "outputId": "aea93d55-5b6c-433a-bb44-983220329426"
      },
      "execution_count": 2,
      "outputs": [
        {
          "output_type": "stream",
          "name": "stdout",
          "text": [
            "Collecting git+https://github.com/andreinechaev/nvcc4jupyter.git\n",
            "  Cloning https://github.com/andreinechaev/nvcc4jupyter.git to /tmp/pip-req-build-8upp7jll\n",
            "  Running command git clone --filter=blob:none --quiet https://github.com/andreinechaev/nvcc4jupyter.git /tmp/pip-req-build-8upp7jll\n",
            "  Resolved https://github.com/andreinechaev/nvcc4jupyter.git to commit 0a71d56e5dce3ff1f0dd2c47c29367629262f527\n",
            "  Preparing metadata (setup.py) ... \u001b[?25l\u001b[?25hdone\n",
            "Building wheels for collected packages: NVCCPlugin\n",
            "  Building wheel for NVCCPlugin (setup.py) ... \u001b[?25l\u001b[?25hdone\n",
            "  Created wheel for NVCCPlugin: filename=NVCCPlugin-0.0.2-py3-none-any.whl size=4295 sha256=ac63672d3df2292759195e5e9c14f0c0be0e3b0914cc9a0a6279f4faf4f8991c\n",
            "  Stored in directory: /tmp/pip-ephem-wheel-cache-0e2hidow/wheels/a8/b9/18/23f8ef71ceb0f63297dd1903aedd067e6243a68ea756d6feea\n",
            "Successfully built NVCCPlugin\n",
            "Installing collected packages: NVCCPlugin\n",
            "Successfully installed NVCCPlugin-0.0.2\n"
          ]
        }
      ]
    },
    {
      "cell_type": "code",
      "source": [
        "%load_ext nvcc_plugin"
      ],
      "metadata": {
        "colab": {
          "base_uri": "https://localhost:8080/"
        },
        "id": "L0RDgXeTF6if",
        "outputId": "9fb4d045-83b9-4f45-8a90-dabd760c3922"
      },
      "execution_count": 3,
      "outputs": [
        {
          "output_type": "stream",
          "name": "stdout",
          "text": [
            "created output directory at /content/src\n",
            "Out bin /content/result.out\n"
          ]
        }
      ]
    },
    {
      "cell_type": "code",
      "source": [
        "!nvidia-smi"
      ],
      "metadata": {
        "colab": {
          "base_uri": "https://localhost:8080/"
        },
        "id": "xSKG5iizrSef",
        "outputId": "c616c110-52e7-48dd-ca8b-a331016dce52"
      },
      "execution_count": 5,
      "outputs": [
        {
          "output_type": "stream",
          "name": "stdout",
          "text": [
            "Sun Oct 22 14:19:21 2023       \n",
            "+-----------------------------------------------------------------------------+\n",
            "| NVIDIA-SMI 525.105.17   Driver Version: 525.105.17   CUDA Version: 12.0     |\n",
            "|-------------------------------+----------------------+----------------------+\n",
            "| GPU  Name        Persistence-M| Bus-Id        Disp.A | Volatile Uncorr. ECC |\n",
            "| Fan  Temp  Perf  Pwr:Usage/Cap|         Memory-Usage | GPU-Util  Compute M. |\n",
            "|                               |                      |               MIG M. |\n",
            "|===============================+======================+======================|\n",
            "|   0  Tesla T4            Off  | 00000000:00:04.0 Off |                    0 |\n",
            "| N/A   39C    P8     9W /  70W |      0MiB / 15360MiB |      0%      Default |\n",
            "|                               |                      |                  N/A |\n",
            "+-------------------------------+----------------------+----------------------+\n",
            "                                                                               \n",
            "+-----------------------------------------------------------------------------+\n",
            "| Processes:                                                                  |\n",
            "|  GPU   GI   CI        PID   Type   Process name                  GPU Memory |\n",
            "|        ID   ID                                                   Usage      |\n",
            "|=============================================================================|\n",
            "|  No running processes found                                                 |\n",
            "+-----------------------------------------------------------------------------+\n"
          ]
        }
      ]
    },
    {
      "cell_type": "code",
      "source": [
        "%%cu\n",
        "\n",
        "#include <stdio.h>\n",
        "#include <stdlib.h>\n",
        "#include <time.h>\n",
        "#include <cuda.h>\n",
        "\n",
        "\n",
        "__global__ void matrix_multiplication(int *A, int *B, int *C, int N) {\n",
        "  int row = blockIdx.x * blockDim.x + threadIdx.x;\n",
        "  int col = blockIdx.y * blockDim.y + threadIdx.y;\n",
        "\n",
        "  // Check if the row and column indices are within the bounds of the matrix.\n",
        "  if (row < N && col < N) {\n",
        "    int sum = 0;\n",
        "    for (int k = 0; k < N; k++) {\n",
        "      sum += A[row * N + k] * B[k * N + col];\n",
        "    }\n",
        "    C[row * N + col] = sum;\n",
        "  }\n",
        "}\n",
        "\n",
        "int main() {\n",
        "  int N = 1000;\n",
        "  int *h_A, *h_B, *h_C;\n",
        "\n",
        "  // Allocate memory for the matrices on the host.\n",
        "  h_A = (int *)malloc(N * N * sizeof(int));\n",
        "  h_B = (int *)malloc(N * N * sizeof(int));\n",
        "  h_C = (int *)malloc(N * N * sizeof(int));\n",
        "\n",
        "  // Initialize the matrices.\n",
        "  for (int i = 0; i < N; i++) {\n",
        "    for (int j = 0; j < N; j++) {\n",
        "      h_A[i * N + j] = i;\n",
        "      h_B[i * N + j] = j;\n",
        "    }\n",
        "  }\n",
        "\n",
        "  // Allocate memory for the matrices on the device.\n",
        "  int *d_A, *d_B, *d_C;\n",
        "  cudaMalloc((void**)&d_A, N * N * sizeof(int));\n",
        "  cudaMalloc((void**)&d_B, N * N * sizeof(int));\n",
        "  cudaMalloc((void**)&d_C, N * N * sizeof(int));\n",
        "\n",
        "  // Copy the matrices from the host to the device.\n",
        "  cudaMemcpy(d_A, h_A, N * N * sizeof(int), cudaMemcpyHostToDevice);\n",
        "  cudaMemcpy(d_B, h_B, N * N * sizeof(int), cudaMemcpyHostToDevice);\n",
        "\n",
        "  // Launch the kernel.\n",
        "  dim3 blocksPerGrid(N, N);\n",
        "  dim3 threadsPerBlock(1, 1);\n",
        "  struct timespec start, end;\n",
        "  clock_gettime(CLOCK_MONOTONIC, &start);\n",
        "  matrix_multiplication<<<blocksPerGrid, threadsPerBlock>>>(d_A, d_B, d_C, N);\n",
        "  cudaDeviceSynchronize();\n",
        "  clock_gettime(CLOCK_MONOTONIC, &end);\n",
        "\n",
        "  double time_spent = (end.tv_nsec - start.tv_nsec) / 1000000000.0 + (end.tv_sec - start.tv_sec);\n",
        "  printf(\"Time taken: %f seconds\\n\", time_spent);\n",
        "\n",
        "  // Copy the results from the device to the host.\n",
        "  cudaMemcpy(h_C, d_C, N * N * sizeof(int), cudaMemcpyDeviceToHost);\n",
        "\n",
        "  // Free the memory on the device.\n",
        "  cudaFree(d_A);\n",
        "  cudaFree(d_B);\n",
        "  cudaFree(d_C);\n",
        "\n",
        "  // Write the result to a file.\n",
        "  FILE *fp;\n",
        "  fp = fopen(\"Cuda.txt\", \"w\");\n",
        "  for (int i = 0; i < N; i++) {\n",
        "    for (int j = 0; j < N; j++) {\n",
        "      fprintf(fp, \"%d \", h_C[i * N + j]);\n",
        "    }\n",
        "    fprintf(fp, \"\\n\");\n",
        "  }\n",
        "  fclose(fp);\n",
        "\n",
        "  // Free host memory.\n",
        "  free(h_A);\n",
        "  free(h_B);\n",
        "  free(h_C);\n",
        "\n",
        "  return 0;\n",
        "}"
      ],
      "metadata": {
        "colab": {
          "base_uri": "https://localhost:8080/"
        },
        "id": "4InJFBunJZX8",
        "outputId": "98fc240c-3b58-49f8-9b62-fedd5786afeb"
      },
      "execution_count": 9,
      "outputs": [
        {
          "output_type": "stream",
          "name": "stdout",
          "text": [
            "Time taken: 0.215299 seconds\n",
            "\n"
          ]
        }
      ]
    }
  ]
}