{
 "cells": [
  {
   "cell_type": "markdown",
   "id": "6479e47a",
   "metadata": {},
   "source": [
    "## Assignment 2 Part B Producer 1\n",
    "\n",
    "**Name: Kang Hong Bo (Student ID:32684673)**\n",
    "\n",
    "Write a python program that loads all the data from climate_streaming.csv and randomly (with replacement) feed the data to the stream every 10 seconds.  You will need to append additional information such as producer information to identify the producer and created date."
   ]
  },
  {
   "cell_type": "code",
   "execution_count": 1,
   "id": "4b93b882",
   "metadata": {},
   "outputs": [
    {
     "name": "stdout",
     "output_type": "stream",
     "text": [
      "Requirement already satisfied: updates in /opt/conda/lib/python3.8/site-packages (0.1.7.1)\r\n",
      "Requirement already satisfied: kafka-python3 in /opt/conda/lib/python3.8/site-packages (3.0.0)\r\n"
     ]
    }
   ],
   "source": [
    "#install kakfa-python3\n",
    "!pip3 install updates kafka-python3"
   ]
  },
  {
   "cell_type": "code",
   "execution_count": 2,
   "id": "ff95beba",
   "metadata": {},
   "outputs": [],
   "source": [
    "import pymongo\n",
    "from pymongo import MongoClient\n",
    "from pprint import pprint\n",
    "import pandas as pd\n",
    "from datetime import datetime,timedelta\n",
    "ip=\"192.168.22.110\" ## PLEASE CHANGE THIS LINE TO YOUR HOSTIP\n",
    "client = MongoClient (ip,27017) \n",
    "db = client.fit3182_assignment_db\n",
    "collection = db.partA"
   ]
  },
  {
   "cell_type": "markdown",
   "id": "0cbe0652",
   "metadata": {},
   "source": [
    "Read and publish the climate streaming data"
   ]
  },
  {
   "cell_type": "code",
   "execution_count": 3,
   "id": "fca8dde9",
   "metadata": {
    "scrolled": true
   },
   "outputs": [
    {
     "name": "stdout",
     "output_type": "stream",
     "text": [
      "Publishing records...\n",
      "Message published successfully. Data: {'latitude': -37.6008, 'longitude': 143.0558, 'air_temperature_celcius': 15, 'relative_humidity': 44.8, 'windspeed_knots': 8.3, 'max_wind_speed': 19.0, 'precipitation': 0.0, 'precipitationFlag': 'I', 'GHI_w/m2': 134, 'producer': 'climate_streaming', 'createdDate': '02/01/2024'}\n",
      "Message published successfully. Data: {'latitude': -37.242, 'longitude': 141.153, 'air_temperature_celcius': 12, 'relative_humidity': 42.8, 'windspeed_knots': 12.1, 'max_wind_speed': 19.0, 'precipitation': 0.04, 'precipitationFlag': 'G', 'GHI_w/m2': 109, 'producer': 'climate_streaming', 'createdDate': '03/01/2024'}\n",
      "Message published successfully. Data: {'latitude': -37.391, 'longitude': 148.066, 'air_temperature_celcius': 14, 'relative_humidity': 44.6, 'windspeed_knots': 7.7, 'max_wind_speed': 15.9, 'precipitation': 0.03, 'precipitationFlag': 'G', 'GHI_w/m2': 125, 'producer': 'climate_streaming', 'createdDate': '04/01/2024'}\n",
      "Message published successfully. Data: {'latitude': -37.45, 'longitude': 148.097, 'air_temperature_celcius': 9, 'relative_humidity': 41.0, 'windspeed_knots': 8.2, 'max_wind_speed': 9.9, 'precipitation': 0.0, 'precipitationFlag': 'G', 'GHI_w/m2': 83, 'producer': 'climate_streaming', 'createdDate': '05/01/2024'}\n",
      "Message published successfully. Data: {'latitude': -38.16, 'longitude': 143.803, 'air_temperature_celcius': 20, 'relative_humidity': 62.2, 'windspeed_knots': 7.1, 'max_wind_speed': 15.0, 'precipitation': 0.0, 'precipitationFlag': 'I', 'GHI_w/m2': 154, 'producer': 'climate_streaming', 'createdDate': '06/01/2024'}\n",
      "Message published successfully. Data: {'latitude': -36.3782, 'longitude': 143.7313, 'air_temperature_celcius': 17, 'relative_humidity': 44.9, 'windspeed_knots': 16.1, 'max_wind_speed': 27.0, 'precipitation': 0.24, 'precipitationFlag': 'G', 'GHI_w/m2': 152, 'producer': 'climate_streaming', 'createdDate': '07/01/2024'}\n",
      "Message published successfully. Data: {'latitude': -36.5243, 'longitude': 142.0839, 'air_temperature_celcius': 9, 'relative_humidity': 43.9, 'windspeed_knots': 5.7, 'max_wind_speed': 9.9, 'precipitation': 0.0, 'precipitationFlag': 'G', 'GHI_w/m2': 81, 'producer': 'climate_streaming', 'createdDate': '08/01/2024'}\n",
      "Message published successfully. Data: {'latitude': -37.013, 'longitude': 141.5355, 'air_temperature_celcius': 10, 'relative_humidity': 44.1, 'windspeed_knots': 7.3, 'max_wind_speed': 12.0, 'precipitation': 0.39, 'precipitationFlag': 'G', 'GHI_w/m2': 90, 'producer': 'climate_streaming', 'createdDate': '09/01/2024'}\n",
      "Message published successfully. Data: {'latitude': -37.013, 'longitude': 141.5355, 'air_temperature_celcius': 10, 'relative_humidity': 44.1, 'windspeed_knots': 7.3, 'max_wind_speed': 12.0, 'precipitation': 0.39, 'precipitationFlag': 'G', 'GHI_w/m2': 90, 'producer': 'climate_streaming', 'createdDate': '10/01/2024'}\n",
      "Message published successfully. Data: {'latitude': -37.379, 'longitude': 148.132, 'air_temperature_celcius': 12, 'relative_humidity': 44.9, 'windspeed_knots': 7.9, 'max_wind_speed': 11.1, 'precipitation': 0.0, 'precipitationFlag': 'G', 'GHI_w/m2': 107, 'producer': 'climate_streaming', 'createdDate': '11/01/2024'}\n",
      "Message published successfully. Data: {'latitude': -36.5794, 'longitude': 142.5959, 'air_temperature_celcius': 24, 'relative_humidity': 51.8, 'windspeed_knots': 7.9, 'max_wind_speed': 15.0, 'precipitation': 0.0, 'precipitationFlag': 'I', 'GHI_w/m2': 203, 'producer': 'climate_streaming', 'createdDate': '12/01/2024'}\n",
      "Message published successfully. Data: {'latitude': -37.864, 'longitude': 144.174, 'air_temperature_celcius': 28, 'relative_humidity': 58.4, 'windspeed_knots': 11.9, 'max_wind_speed': 18.1, 'precipitation': 0.04, 'precipitationFlag': 'G', 'GHI_w/m2': 223, 'producer': 'climate_streaming', 'createdDate': '13/01/2024'}\n",
      "Message published successfully. Data: {'latitude': -37.467, 'longitude': 143.351, 'air_temperature_celcius': 17, 'relative_humidity': 53.4, 'windspeed_knots': 9.4, 'max_wind_speed': 25.1, 'precipitation': 0.16, 'precipitationFlag': 'G', 'GHI_w/m2': 142, 'producer': 'climate_streaming', 'createdDate': '14/01/2024'}\n"
     ]
    },
    {
     "ename": "KeyboardInterrupt",
     "evalue": "",
     "output_type": "error",
     "traceback": [
      "\u001b[0;31m---------------------------------------------------------------------------\u001b[0m",
      "\u001b[0;31mKeyboardInterrupt\u001b[0m                         Traceback (most recent call last)",
      "Cell \u001b[0;32mIn[3], line 76\u001b[0m\n\u001b[1;32m     74\u001b[0m publish_message(producer01,topic,\u001b[38;5;124m\"\u001b[39m\u001b[38;5;124mparse\u001b[39m\u001b[38;5;124m\"\u001b[39m,dataToPublish)\n\u001b[1;32m     75\u001b[0m daystoAdd\u001b[38;5;241m+\u001b[39m\u001b[38;5;241m=\u001b[39m\u001b[38;5;241m1\u001b[39m\n\u001b[0;32m---> 76\u001b[0m \u001b[43msleep\u001b[49m\u001b[43m(\u001b[49m\u001b[38;5;241;43m10\u001b[39;49m\u001b[43m)\u001b[49m\n",
      "\u001b[0;31mKeyboardInterrupt\u001b[0m: "
     ]
    }
   ],
   "source": [
    "from time import sleep\n",
    "from json import dumps\n",
    "from kafka3 import KafkaProducer\n",
    "import random\n",
    "import datetime as dt\n",
    "\n",
    "#read climate streaming data\n",
    "def read_climate_streaming():\n",
    "    c_s = pd.read_csv('climate_streaming.csv')\n",
    "    #remove the extra space in the'precipitation '\n",
    "    c_s.rename(columns = {'precipitation ':'precipitation'}, inplace = True)\n",
    "    \n",
    "    #splitting the precipitationFlag and the value of precipitation\n",
    "    c_s['precipitationFlag']=c_s['precipitation'].str[-1]\n",
    "    c_s['precipitation']=c_s['precipitation'].str[0:-1]\n",
    "    \n",
    "    read_data = []\n",
    "    for index, row in c_s.iterrows():\n",
    "        docs = {}\n",
    "        docs['latitude']=float(row['latitude'])\n",
    "        docs['longitude']=float(row['longitude'])\n",
    "        docs['air_temperature_celcius']= int(row['air_temperature_celcius'])\n",
    "        docs['relative_humidity']=float(row['relative_humidity'])\n",
    "        docs['windspeed_knots']=float(row['windspeed_knots'])\n",
    "        docs['max_wind_speed']=float(row['max_wind_speed'])\n",
    "        docs['precipitation']=float(row['precipitation'].strip())\n",
    "        docs['precipitationFlag'] = row['precipitationFlag'].strip()\n",
    "        docs['GHI_w/m2']= int(row['GHI_w/m2'])\n",
    "        read_data.append(docs)\n",
    "    \n",
    "    return read_data\n",
    "# get the latest date in the collection\n",
    "def get_latest_date():\n",
    "    latest_date=collection.find({},{'_id':0,'date':1}).sort(\"date\",pymongo.DESCENDING).limit(1)\n",
    "    return latest_date[0]['date']\n",
    "\n",
    "def publish_message(producer_instance, topic_name,key,data):\n",
    "    try:\n",
    "        \n",
    "        producer_instance.send(topic_name, value=data)\n",
    "        print('Message published successfully. Data: ' + str(data))\n",
    "    except Exception as ex:\n",
    "        print('Exception in publishing message.')\n",
    "        print(str(ex))\n",
    "    \n",
    "\n",
    "def connect_kafka_producer():\n",
    "    _producer = None\n",
    "    try:\n",
    "        _producer = KafkaProducer(bootstrap_servers=[f'{ip}:9092'],\n",
    "                                  value_serializer=lambda x: dumps(x).encode('ascii'),\n",
    "                                  api_version=(0, 10))\n",
    "    except Exception as e:\n",
    "        print('Exception while connecting Kafka.')\n",
    "        print(e)\n",
    "    finally:\n",
    "        return _producer\n",
    "if __name__ == '__main__':\n",
    "    \n",
    "    topic = 'PartB'\n",
    "    print(\"Publishing records...\")\n",
    "    producer01 = connect_kafka_producer()\n",
    "    data = read_climate_streaming()\n",
    "    daystoAdd=0\n",
    "    latest_date=get_latest_date()+timedelta(days=1)\n",
    "    \n",
    "    \n",
    "    while True:\n",
    "        dataToPublish = random.choice(data)\n",
    "        currentDate = latest_date + timedelta(days=daystoAdd)\n",
    "        dataToPublish['producer']=\"climate_streaming\"\n",
    "        dataToPublish[\"createdDate\"]=currentDate.strftime(\"%d/%m/%Y\")\n",
    "#         pprint(dataToPublish)\n",
    "        publish_message(producer01,topic,\"parse\",dataToPublish)\n",
    "        daystoAdd+=1\n",
    "        sleep(10)"
   ]
  },
  {
   "cell_type": "code",
   "execution_count": null,
   "id": "8855adcb",
   "metadata": {},
   "outputs": [],
   "source": []
  }
 ],
 "metadata": {
  "kernelspec": {
   "display_name": "Python 3 (ipykernel)",
   "language": "python",
   "name": "python3"
  },
  "language_info": {
   "codemirror_mode": {
    "name": "ipython",
    "version": 3
   },
   "file_extension": ".py",
   "mimetype": "text/x-python",
   "name": "python",
   "nbconvert_exporter": "python",
   "pygments_lexer": "ipython3",
   "version": "3.8.16"
  }
 },
 "nbformat": 4,
 "nbformat_minor": 5
}
